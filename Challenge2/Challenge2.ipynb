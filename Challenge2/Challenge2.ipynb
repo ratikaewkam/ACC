{
 "cells": [
  {
   "cell_type": "markdown",
   "id": "8005c3c6-b31b-4ba2-a46e-2ad4cfa79b45",
   "metadata": {},
   "source": [
    "### Import Libs"
   ]
  },
  {
   "cell_type": "code",
   "execution_count": 7,
   "id": "d9f4a3ac-1643-4ee9-923b-e98e9b890927",
   "metadata": {},
   "outputs": [],
   "source": [
    "import numpy as np\n",
    "import pandas as pd\n",
    "import matplotlib.pyplot as plt\n",
    "import scipy as sp"
   ]
  },
  {
   "cell_type": "markdown",
   "id": "183a869c-63dc-468d-97a6-5c7492d3a3ec",
   "metadata": {},
   "source": [
    "### Check data (JSON file)"
   ]
  },
  {
   "cell_type": "code",
   "execution_count": 2,
   "id": "6b6d0c29-ee04-439c-b0fb-f0ea51f0eef3",
   "metadata": {},
   "outputs": [
    {
     "data": {
      "text/html": [
       "<div>\n",
       "<style scoped>\n",
       "    .dataframe tbody tr th:only-of-type {\n",
       "        vertical-align: middle;\n",
       "    }\n",
       "\n",
       "    .dataframe tbody tr th {\n",
       "        vertical-align: top;\n",
       "    }\n",
       "\n",
       "    .dataframe thead th {\n",
       "        text-align: right;\n",
       "    }\n",
       "</style>\n",
       "<table border=\"1\" class=\"dataframe\">\n",
       "  <thead>\n",
       "    <tr style=\"text-align: right;\">\n",
       "      <th></th>\n",
       "      <th>Apparent Magitude (m)</th>\n",
       "      <th>Absolute Magnitude (M)</th>\n",
       "      <th>Redshift (z)</th>\n",
       "    </tr>\n",
       "  </thead>\n",
       "  <tbody>\n",
       "    <tr>\n",
       "      <th>0</th>\n",
       "      <td>14.541391</td>\n",
       "      <td>-16.339065</td>\n",
       "      <td>0.003676</td>\n",
       "    </tr>\n",
       "    <tr>\n",
       "      <th>1</th>\n",
       "      <td>16.756129</td>\n",
       "      <td>-18.177730</td>\n",
       "      <td>0.022604</td>\n",
       "    </tr>\n",
       "    <tr>\n",
       "      <th>2</th>\n",
       "      <td>15.829605</td>\n",
       "      <td>-16.696145</td>\n",
       "      <td>0.008038</td>\n",
       "    </tr>\n",
       "    <tr>\n",
       "      <th>3</th>\n",
       "      <td>16.294575</td>\n",
       "      <td>-19.512265</td>\n",
       "      <td>0.036352</td>\n",
       "    </tr>\n",
       "    <tr>\n",
       "      <th>4</th>\n",
       "      <td>13.829094</td>\n",
       "      <td>-19.665756</td>\n",
       "      <td>0.010395</td>\n",
       "    </tr>\n",
       "    <tr>\n",
       "      <th>5</th>\n",
       "      <td>14.182569</td>\n",
       "      <td>-21.249230</td>\n",
       "      <td>0.033587</td>\n",
       "    </tr>\n",
       "    <tr>\n",
       "      <th>6</th>\n",
       "      <td>16.039077</td>\n",
       "      <td>-17.778063</td>\n",
       "      <td>0.014448</td>\n",
       "    </tr>\n",
       "    <tr>\n",
       "      <th>7</th>\n",
       "      <td>17.138868</td>\n",
       "      <td>-17.656339</td>\n",
       "      <td>0.017838</td>\n",
       "    </tr>\n",
       "    <tr>\n",
       "      <th>8</th>\n",
       "      <td>15.998251</td>\n",
       "      <td>-19.397655</td>\n",
       "      <td>0.030485</td>\n",
       "    </tr>\n",
       "    <tr>\n",
       "      <th>9</th>\n",
       "      <td>17.910487</td>\n",
       "      <td>-16.931928</td>\n",
       "      <td>0.025338</td>\n",
       "    </tr>\n",
       "    <tr>\n",
       "      <th>10</th>\n",
       "      <td>15.074670</td>\n",
       "      <td>-20.918616</td>\n",
       "      <td>0.030141</td>\n",
       "    </tr>\n",
       "    <tr>\n",
       "      <th>11</th>\n",
       "      <td>15.164040</td>\n",
       "      <td>-18.866860</td>\n",
       "      <td>0.017838</td>\n",
       "    </tr>\n",
       "    <tr>\n",
       "      <th>12</th>\n",
       "      <td>12.484639</td>\n",
       "      <td>-23.322201</td>\n",
       "      <td>0.032552</td>\n",
       "    </tr>\n",
       "    <tr>\n",
       "      <th>13</th>\n",
       "      <td>15.601659</td>\n",
       "      <td>-18.324991</td>\n",
       "      <td>0.011069</td>\n",
       "    </tr>\n",
       "    <tr>\n",
       "      <th>14</th>\n",
       "      <td>13.753618</td>\n",
       "      <td>-21.310568</td>\n",
       "      <td>0.017159</td>\n",
       "    </tr>\n",
       "    <tr>\n",
       "      <th>15</th>\n",
       "      <td>14.504531</td>\n",
       "      <td>-18.809258</td>\n",
       "      <td>0.012081</td>\n",
       "    </tr>\n",
       "    <tr>\n",
       "      <th>16</th>\n",
       "      <td>14.147030</td>\n",
       "      <td>-18.510365</td>\n",
       "      <td>0.006022</td>\n",
       "    </tr>\n",
       "    <tr>\n",
       "      <th>17</th>\n",
       "      <td>16.044847</td>\n",
       "      <td>-20.291012</td>\n",
       "      <td>0.032207</td>\n",
       "    </tr>\n",
       "    <tr>\n",
       "      <th>18</th>\n",
       "      <td>15.192141</td>\n",
       "      <td>-16.313009</td>\n",
       "      <td>0.004011</td>\n",
       "    </tr>\n",
       "  </tbody>\n",
       "</table>\n",
       "</div>"
      ],
      "text/plain": [
       "    Apparent Magitude (m)  Absolute Magnitude (M)  Redshift (z)\n",
       "0               14.541391              -16.339065      0.003676\n",
       "1               16.756129              -18.177730      0.022604\n",
       "2               15.829605              -16.696145      0.008038\n",
       "3               16.294575              -19.512265      0.036352\n",
       "4               13.829094              -19.665756      0.010395\n",
       "5               14.182569              -21.249230      0.033587\n",
       "6               16.039077              -17.778063      0.014448\n",
       "7               17.138868              -17.656339      0.017838\n",
       "8               15.998251              -19.397655      0.030485\n",
       "9               17.910487              -16.931928      0.025338\n",
       "10              15.074670              -20.918616      0.030141\n",
       "11              15.164040              -18.866860      0.017838\n",
       "12              12.484639              -23.322201      0.032552\n",
       "13              15.601659              -18.324991      0.011069\n",
       "14              13.753618              -21.310568      0.017159\n",
       "15              14.504531              -18.809258      0.012081\n",
       "16              14.147030              -18.510365      0.006022\n",
       "17              16.044847              -20.291012      0.032207\n",
       "18              15.192141              -16.313009      0.004011"
      ]
     },
     "execution_count": 2,
     "metadata": {},
     "output_type": "execute_result"
    }
   ],
   "source": [
    "df = pd.read_json('Challenge2_data.json')\n",
    "df"
   ]
  },
  {
   "cell_type": "code",
   "execution_count": 3,
   "id": "7279299d-4a2f-4eac-b69e-1dae8cccb6cf",
   "metadata": {},
   "outputs": [
    {
     "data": {
      "text/plain": [
       "Index(['Apparent Magitude (m)', 'Absolute Magnitude (M)', 'Redshift (z)'], dtype='object')"
      ]
     },
     "execution_count": 3,
     "metadata": {},
     "output_type": "execute_result"
    }
   ],
   "source": [
    "df.columns"
   ]
  },
  {
   "cell_type": "markdown",
   "id": "a2fe052f-63e6-4969-81dd-11c5cf235604",
   "metadata": {},
   "source": [
    "### Rename columns"
   ]
  },
  {
   "cell_type": "code",
   "execution_count": 4,
   "id": "8e819814-5820-474a-878c-0de60929131e",
   "metadata": {},
   "outputs": [
    {
     "data": {
      "text/html": [
       "<div>\n",
       "<style scoped>\n",
       "    .dataframe tbody tr th:only-of-type {\n",
       "        vertical-align: middle;\n",
       "    }\n",
       "\n",
       "    .dataframe tbody tr th {\n",
       "        vertical-align: top;\n",
       "    }\n",
       "\n",
       "    .dataframe thead th {\n",
       "        text-align: right;\n",
       "    }\n",
       "</style>\n",
       "<table border=\"1\" class=\"dataframe\">\n",
       "  <thead>\n",
       "    <tr style=\"text-align: right;\">\n",
       "      <th></th>\n",
       "      <th>m</th>\n",
       "      <th>M</th>\n",
       "      <th>z</th>\n",
       "    </tr>\n",
       "  </thead>\n",
       "  <tbody>\n",
       "    <tr>\n",
       "      <th>0</th>\n",
       "      <td>14.541391</td>\n",
       "      <td>-16.339065</td>\n",
       "      <td>0.003676</td>\n",
       "    </tr>\n",
       "    <tr>\n",
       "      <th>1</th>\n",
       "      <td>16.756129</td>\n",
       "      <td>-18.177730</td>\n",
       "      <td>0.022604</td>\n",
       "    </tr>\n",
       "    <tr>\n",
       "      <th>2</th>\n",
       "      <td>15.829605</td>\n",
       "      <td>-16.696145</td>\n",
       "      <td>0.008038</td>\n",
       "    </tr>\n",
       "    <tr>\n",
       "      <th>3</th>\n",
       "      <td>16.294575</td>\n",
       "      <td>-19.512265</td>\n",
       "      <td>0.036352</td>\n",
       "    </tr>\n",
       "    <tr>\n",
       "      <th>4</th>\n",
       "      <td>13.829094</td>\n",
       "      <td>-19.665756</td>\n",
       "      <td>0.010395</td>\n",
       "    </tr>\n",
       "    <tr>\n",
       "      <th>5</th>\n",
       "      <td>14.182569</td>\n",
       "      <td>-21.249230</td>\n",
       "      <td>0.033587</td>\n",
       "    </tr>\n",
       "    <tr>\n",
       "      <th>6</th>\n",
       "      <td>16.039077</td>\n",
       "      <td>-17.778063</td>\n",
       "      <td>0.014448</td>\n",
       "    </tr>\n",
       "    <tr>\n",
       "      <th>7</th>\n",
       "      <td>17.138868</td>\n",
       "      <td>-17.656339</td>\n",
       "      <td>0.017838</td>\n",
       "    </tr>\n",
       "    <tr>\n",
       "      <th>8</th>\n",
       "      <td>15.998251</td>\n",
       "      <td>-19.397655</td>\n",
       "      <td>0.030485</td>\n",
       "    </tr>\n",
       "    <tr>\n",
       "      <th>9</th>\n",
       "      <td>17.910487</td>\n",
       "      <td>-16.931928</td>\n",
       "      <td>0.025338</td>\n",
       "    </tr>\n",
       "    <tr>\n",
       "      <th>10</th>\n",
       "      <td>15.074670</td>\n",
       "      <td>-20.918616</td>\n",
       "      <td>0.030141</td>\n",
       "    </tr>\n",
       "    <tr>\n",
       "      <th>11</th>\n",
       "      <td>15.164040</td>\n",
       "      <td>-18.866860</td>\n",
       "      <td>0.017838</td>\n",
       "    </tr>\n",
       "    <tr>\n",
       "      <th>12</th>\n",
       "      <td>12.484639</td>\n",
       "      <td>-23.322201</td>\n",
       "      <td>0.032552</td>\n",
       "    </tr>\n",
       "    <tr>\n",
       "      <th>13</th>\n",
       "      <td>15.601659</td>\n",
       "      <td>-18.324991</td>\n",
       "      <td>0.011069</td>\n",
       "    </tr>\n",
       "    <tr>\n",
       "      <th>14</th>\n",
       "      <td>13.753618</td>\n",
       "      <td>-21.310568</td>\n",
       "      <td>0.017159</td>\n",
       "    </tr>\n",
       "    <tr>\n",
       "      <th>15</th>\n",
       "      <td>14.504531</td>\n",
       "      <td>-18.809258</td>\n",
       "      <td>0.012081</td>\n",
       "    </tr>\n",
       "    <tr>\n",
       "      <th>16</th>\n",
       "      <td>14.147030</td>\n",
       "      <td>-18.510365</td>\n",
       "      <td>0.006022</td>\n",
       "    </tr>\n",
       "    <tr>\n",
       "      <th>17</th>\n",
       "      <td>16.044847</td>\n",
       "      <td>-20.291012</td>\n",
       "      <td>0.032207</td>\n",
       "    </tr>\n",
       "    <tr>\n",
       "      <th>18</th>\n",
       "      <td>15.192141</td>\n",
       "      <td>-16.313009</td>\n",
       "      <td>0.004011</td>\n",
       "    </tr>\n",
       "  </tbody>\n",
       "</table>\n",
       "</div>"
      ],
      "text/plain": [
       "            m          M         z\n",
       "0   14.541391 -16.339065  0.003676\n",
       "1   16.756129 -18.177730  0.022604\n",
       "2   15.829605 -16.696145  0.008038\n",
       "3   16.294575 -19.512265  0.036352\n",
       "4   13.829094 -19.665756  0.010395\n",
       "5   14.182569 -21.249230  0.033587\n",
       "6   16.039077 -17.778063  0.014448\n",
       "7   17.138868 -17.656339  0.017838\n",
       "8   15.998251 -19.397655  0.030485\n",
       "9   17.910487 -16.931928  0.025338\n",
       "10  15.074670 -20.918616  0.030141\n",
       "11  15.164040 -18.866860  0.017838\n",
       "12  12.484639 -23.322201  0.032552\n",
       "13  15.601659 -18.324991  0.011069\n",
       "14  13.753618 -21.310568  0.017159\n",
       "15  14.504531 -18.809258  0.012081\n",
       "16  14.147030 -18.510365  0.006022\n",
       "17  16.044847 -20.291012  0.032207\n",
       "18  15.192141 -16.313009  0.004011"
      ]
     },
     "execution_count": 4,
     "metadata": {},
     "output_type": "execute_result"
    }
   ],
   "source": [
    "df.rename(columns = {'Apparent Magitude (m)':'m', 'Absolute Magnitude (M)':'M', 'Redshift (z)':'z'}, inplace = True)\n",
    "df"
   ]
  },
  {
   "cell_type": "markdown",
   "id": "705e2b23-07f1-4a3a-9f9d-5dac5c5702be",
   "metadata": {},
   "source": [
    "### Raw data to numpy array"
   ]
  },
  {
   "cell_type": "code",
   "execution_count": 5,
   "id": "2d76c059-7bf0-460b-a183-9352d9ab825a",
   "metadata": {},
   "outputs": [
    {
     "data": {
      "text/plain": [
       "(array([14.54139124, 16.75612879, 15.82960489, 16.29457481, 13.82909389,\n",
       "        14.18256872, 16.03907735, 17.13886801, 15.9982508 , 17.91048687,\n",
       "        15.07466972, 15.16403959, 12.48463919, 15.6016586 , 13.75361766,\n",
       "        14.50453086, 14.14702991, 16.04484713, 15.19214105]),\n",
       " array([-16.33906506, -18.17772989, -16.696145  , -19.5122652 ,\n",
       "        -19.66575613, -21.24923043, -17.77806262, -17.65633895,\n",
       "        -19.39765543, -16.93192787, -20.91861571, -18.86686028,\n",
       "        -23.32220082, -18.32499057, -21.31056846, -18.8092583 ,\n",
       "        -18.51036467, -20.29101151, -16.31300893]),\n",
       " array([0.00367597, 0.02260424, 0.00803785, 0.03635172, 0.01039452,\n",
       "        0.03358662, 0.01444763, 0.017838  , 0.03048528, 0.02533826,\n",
       "        0.0301413 , 0.017838  , 0.03255174, 0.01106889, 0.01715899,\n",
       "        0.0120813 , 0.0060223 , 0.03220702, 0.00401082]))"
      ]
     },
     "execution_count": 5,
     "metadata": {},
     "output_type": "execute_result"
    }
   ],
   "source": [
    "m = df['m'].to_numpy()\n",
    "M = df['M'].to_numpy()\n",
    "z = df['z'].to_numpy()\n",
    "m, M, z"
   ]
  },
  {
   "cell_type": "markdown",
   "id": "5164ca36-a5dd-4265-a869-bcba4391e0f0",
   "metadata": {},
   "source": [
    "### Formula ref"
   ]
  },
  {
   "cell_type": "markdown",
   "id": "e8add11b-c54b-4bcf-9e31-888a27c46db8",
   "metadata": {},
   "source": [
    "![Challenge2](https://raw.githubusercontent.com/ratikaewkam/ACC/refs/heads/main/Doc/Challenge2_doc.jpg?token=GHSAT0AAAAAACWMAKGT732ENLBU6AMFZ6TQZZGKTNA)"
   ]
  },
  {
   "cell_type": "markdown",
   "id": "2ad5f17f-151c-4523-a007-88b7444f4d5e",
   "metadata": {},
   "source": [
    "### Distance modulus "
   ]
  },
  {
   "cell_type": "code",
   "execution_count": 6,
   "id": "0ce74112-0d47-4da4-89c1-a3a1b300f7cd",
   "metadata": {},
   "outputs": [
    {
     "data": {
      "text/plain": [
       "array([1.50e+07, 9.70e+07, 3.20e+07, 1.45e+08, 5.00e+07, 1.22e+08,\n",
       "       5.80e+07, 9.10e+07, 1.20e+08, 9.30e+07, 1.58e+08, 6.40e+07,\n",
       "       1.45e+08, 6.10e+07, 1.03e+08, 4.60e+07, 3.40e+07, 1.85e+08,\n",
       "       2.00e+07])"
      ]
     },
     "execution_count": 6,
     "metadata": {},
     "output_type": "execute_result"
    }
   ],
   "source": [
    "distance = np.power(10, ((m-M+5)/5))\n",
    "distance"
   ]
  },
  {
   "cell_type": "code",
   "execution_count": null,
   "id": "4f7bcf7d-df00-4fe9-935a-e9120145f4ac",
   "metadata": {},
   "outputs": [],
   "source": []
  }
 ],
 "metadata": {
  "kernelspec": {
   "display_name": "Python 3 (ipykernel)",
   "language": "python",
   "name": "python3"
  },
  "language_info": {
   "codemirror_mode": {
    "name": "ipython",
    "version": 3
   },
   "file_extension": ".py",
   "mimetype": "text/x-python",
   "name": "python",
   "nbconvert_exporter": "python",
   "pygments_lexer": "ipython3",
   "version": "3.10.14"
  }
 },
 "nbformat": 4,
 "nbformat_minor": 5
}
