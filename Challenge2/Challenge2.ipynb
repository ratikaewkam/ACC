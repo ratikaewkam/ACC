{
 "cells": [
  {
   "cell_type": "markdown",
   "id": "8005c3c6-b31b-4ba2-a46e-2ad4cfa79b45",
   "metadata": {},
   "source": [
    "### Import Libs"
   ]
  },
  {
   "cell_type": "code",
   "execution_count": 1,
   "id": "d9f4a3ac-1643-4ee9-923b-e98e9b890927",
   "metadata": {},
   "outputs": [],
   "source": [
    "import numpy as np\n",
    "import pandas as pd\n",
    "import matplotlib.pyplot as plt\n",
    "import scipy as sp"
   ]
  },
  {
   "cell_type": "markdown",
   "id": "183a869c-63dc-468d-97a6-5c7492d3a3ec",
   "metadata": {},
   "source": [
    "### Check data (JSON file)"
   ]
  },
  {
   "cell_type": "code",
   "execution_count": 2,
   "id": "6b6d0c29-ee04-439c-b0fb-f0ea51f0eef3",
   "metadata": {},
   "outputs": [
    {
     "data": {
      "text/html": [
       "<div>\n",
       "<style scoped>\n",
       "    .dataframe tbody tr th:only-of-type {\n",
       "        vertical-align: middle;\n",
       "    }\n",
       "\n",
       "    .dataframe tbody tr th {\n",
       "        vertical-align: top;\n",
       "    }\n",
       "\n",
       "    .dataframe thead th {\n",
       "        text-align: right;\n",
       "    }\n",
       "</style>\n",
       "<table border=\"1\" class=\"dataframe\">\n",
       "  <thead>\n",
       "    <tr style=\"text-align: right;\">\n",
       "      <th></th>\n",
       "      <th>Apparent Magitude (m)</th>\n",
       "      <th>Absolute Magnitude (M)</th>\n",
       "      <th>Redshift (z)</th>\n",
       "    </tr>\n",
       "  </thead>\n",
       "  <tbody>\n",
       "    <tr>\n",
       "      <th>0</th>\n",
       "      <td>14.541391</td>\n",
       "      <td>-16.339065</td>\n",
       "      <td>0.003676</td>\n",
       "    </tr>\n",
       "    <tr>\n",
       "      <th>1</th>\n",
       "      <td>16.756129</td>\n",
       "      <td>-18.177730</td>\n",
       "      <td>0.022604</td>\n",
       "    </tr>\n",
       "    <tr>\n",
       "      <th>2</th>\n",
       "      <td>15.829605</td>\n",
       "      <td>-16.696145</td>\n",
       "      <td>0.008038</td>\n",
       "    </tr>\n",
       "    <tr>\n",
       "      <th>3</th>\n",
       "      <td>16.294575</td>\n",
       "      <td>-19.512265</td>\n",
       "      <td>0.036352</td>\n",
       "    </tr>\n",
       "    <tr>\n",
       "      <th>4</th>\n",
       "      <td>13.829094</td>\n",
       "      <td>-19.665756</td>\n",
       "      <td>0.010395</td>\n",
       "    </tr>\n",
       "    <tr>\n",
       "      <th>5</th>\n",
       "      <td>14.182569</td>\n",
       "      <td>-21.249230</td>\n",
       "      <td>0.033587</td>\n",
       "    </tr>\n",
       "    <tr>\n",
       "      <th>6</th>\n",
       "      <td>16.039077</td>\n",
       "      <td>-17.778063</td>\n",
       "      <td>0.014448</td>\n",
       "    </tr>\n",
       "    <tr>\n",
       "      <th>7</th>\n",
       "      <td>17.138868</td>\n",
       "      <td>-17.656339</td>\n",
       "      <td>0.017838</td>\n",
       "    </tr>\n",
       "    <tr>\n",
       "      <th>8</th>\n",
       "      <td>15.998251</td>\n",
       "      <td>-19.397655</td>\n",
       "      <td>0.030485</td>\n",
       "    </tr>\n",
       "    <tr>\n",
       "      <th>9</th>\n",
       "      <td>17.910487</td>\n",
       "      <td>-16.931928</td>\n",
       "      <td>0.025338</td>\n",
       "    </tr>\n",
       "    <tr>\n",
       "      <th>10</th>\n",
       "      <td>15.074670</td>\n",
       "      <td>-20.918616</td>\n",
       "      <td>0.030141</td>\n",
       "    </tr>\n",
       "    <tr>\n",
       "      <th>11</th>\n",
       "      <td>15.164040</td>\n",
       "      <td>-18.866860</td>\n",
       "      <td>0.017838</td>\n",
       "    </tr>\n",
       "    <tr>\n",
       "      <th>12</th>\n",
       "      <td>12.484639</td>\n",
       "      <td>-23.322201</td>\n",
       "      <td>0.032552</td>\n",
       "    </tr>\n",
       "    <tr>\n",
       "      <th>13</th>\n",
       "      <td>15.601659</td>\n",
       "      <td>-18.324991</td>\n",
       "      <td>0.011069</td>\n",
       "    </tr>\n",
       "    <tr>\n",
       "      <th>14</th>\n",
       "      <td>13.753618</td>\n",
       "      <td>-21.310568</td>\n",
       "      <td>0.017159</td>\n",
       "    </tr>\n",
       "    <tr>\n",
       "      <th>15</th>\n",
       "      <td>14.504531</td>\n",
       "      <td>-18.809258</td>\n",
       "      <td>0.012081</td>\n",
       "    </tr>\n",
       "    <tr>\n",
       "      <th>16</th>\n",
       "      <td>14.147030</td>\n",
       "      <td>-18.510365</td>\n",
       "      <td>0.006022</td>\n",
       "    </tr>\n",
       "    <tr>\n",
       "      <th>17</th>\n",
       "      <td>16.044847</td>\n",
       "      <td>-20.291012</td>\n",
       "      <td>0.032207</td>\n",
       "    </tr>\n",
       "    <tr>\n",
       "      <th>18</th>\n",
       "      <td>15.192141</td>\n",
       "      <td>-16.313009</td>\n",
       "      <td>0.004011</td>\n",
       "    </tr>\n",
       "  </tbody>\n",
       "</table>\n",
       "</div>"
      ],
      "text/plain": [
       "    Apparent Magitude (m)  Absolute Magnitude (M)  Redshift (z)\n",
       "0               14.541391              -16.339065      0.003676\n",
       "1               16.756129              -18.177730      0.022604\n",
       "2               15.829605              -16.696145      0.008038\n",
       "3               16.294575              -19.512265      0.036352\n",
       "4               13.829094              -19.665756      0.010395\n",
       "5               14.182569              -21.249230      0.033587\n",
       "6               16.039077              -17.778063      0.014448\n",
       "7               17.138868              -17.656339      0.017838\n",
       "8               15.998251              -19.397655      0.030485\n",
       "9               17.910487              -16.931928      0.025338\n",
       "10              15.074670              -20.918616      0.030141\n",
       "11              15.164040              -18.866860      0.017838\n",
       "12              12.484639              -23.322201      0.032552\n",
       "13              15.601659              -18.324991      0.011069\n",
       "14              13.753618              -21.310568      0.017159\n",
       "15              14.504531              -18.809258      0.012081\n",
       "16              14.147030              -18.510365      0.006022\n",
       "17              16.044847              -20.291012      0.032207\n",
       "18              15.192141              -16.313009      0.004011"
      ]
     },
     "execution_count": 2,
     "metadata": {},
     "output_type": "execute_result"
    }
   ],
   "source": [
    "df = pd.read_json('Challenge2_data.json')\n",
    "df"
   ]
  },
  {
   "cell_type": "code",
   "execution_count": 3,
   "id": "7279299d-4a2f-4eac-b69e-1dae8cccb6cf",
   "metadata": {},
   "outputs": [
    {
     "data": {
      "text/plain": [
       "Index(['Apparent Magitude (m)', 'Absolute Magnitude (M)', 'Redshift (z)'], dtype='object')"
      ]
     },
     "execution_count": 3,
     "metadata": {},
     "output_type": "execute_result"
    }
   ],
   "source": [
    "df.columns"
   ]
  },
  {
   "cell_type": "markdown",
   "id": "a2fe052f-63e6-4969-81dd-11c5cf235604",
   "metadata": {},
   "source": [
    "### Rename columns"
   ]
  },
  {
   "cell_type": "code",
   "execution_count": 4,
   "id": "8e819814-5820-474a-878c-0de60929131e",
   "metadata": {},
   "outputs": [
    {
     "data": {
      "text/html": [
       "<div>\n",
       "<style scoped>\n",
       "    .dataframe tbody tr th:only-of-type {\n",
       "        vertical-align: middle;\n",
       "    }\n",
       "\n",
       "    .dataframe tbody tr th {\n",
       "        vertical-align: top;\n",
       "    }\n",
       "\n",
       "    .dataframe thead th {\n",
       "        text-align: right;\n",
       "    }\n",
       "</style>\n",
       "<table border=\"1\" class=\"dataframe\">\n",
       "  <thead>\n",
       "    <tr style=\"text-align: right;\">\n",
       "      <th></th>\n",
       "      <th>m</th>\n",
       "      <th>M</th>\n",
       "      <th>z</th>\n",
       "    </tr>\n",
       "  </thead>\n",
       "  <tbody>\n",
       "    <tr>\n",
       "      <th>0</th>\n",
       "      <td>14.541391</td>\n",
       "      <td>-16.339065</td>\n",
       "      <td>0.003676</td>\n",
       "    </tr>\n",
       "    <tr>\n",
       "      <th>1</th>\n",
       "      <td>16.756129</td>\n",
       "      <td>-18.177730</td>\n",
       "      <td>0.022604</td>\n",
       "    </tr>\n",
       "    <tr>\n",
       "      <th>2</th>\n",
       "      <td>15.829605</td>\n",
       "      <td>-16.696145</td>\n",
       "      <td>0.008038</td>\n",
       "    </tr>\n",
       "    <tr>\n",
       "      <th>3</th>\n",
       "      <td>16.294575</td>\n",
       "      <td>-19.512265</td>\n",
       "      <td>0.036352</td>\n",
       "    </tr>\n",
       "    <tr>\n",
       "      <th>4</th>\n",
       "      <td>13.829094</td>\n",
       "      <td>-19.665756</td>\n",
       "      <td>0.010395</td>\n",
       "    </tr>\n",
       "    <tr>\n",
       "      <th>5</th>\n",
       "      <td>14.182569</td>\n",
       "      <td>-21.249230</td>\n",
       "      <td>0.033587</td>\n",
       "    </tr>\n",
       "    <tr>\n",
       "      <th>6</th>\n",
       "      <td>16.039077</td>\n",
       "      <td>-17.778063</td>\n",
       "      <td>0.014448</td>\n",
       "    </tr>\n",
       "    <tr>\n",
       "      <th>7</th>\n",
       "      <td>17.138868</td>\n",
       "      <td>-17.656339</td>\n",
       "      <td>0.017838</td>\n",
       "    </tr>\n",
       "    <tr>\n",
       "      <th>8</th>\n",
       "      <td>15.998251</td>\n",
       "      <td>-19.397655</td>\n",
       "      <td>0.030485</td>\n",
       "    </tr>\n",
       "    <tr>\n",
       "      <th>9</th>\n",
       "      <td>17.910487</td>\n",
       "      <td>-16.931928</td>\n",
       "      <td>0.025338</td>\n",
       "    </tr>\n",
       "    <tr>\n",
       "      <th>10</th>\n",
       "      <td>15.074670</td>\n",
       "      <td>-20.918616</td>\n",
       "      <td>0.030141</td>\n",
       "    </tr>\n",
       "    <tr>\n",
       "      <th>11</th>\n",
       "      <td>15.164040</td>\n",
       "      <td>-18.866860</td>\n",
       "      <td>0.017838</td>\n",
       "    </tr>\n",
       "    <tr>\n",
       "      <th>12</th>\n",
       "      <td>12.484639</td>\n",
       "      <td>-23.322201</td>\n",
       "      <td>0.032552</td>\n",
       "    </tr>\n",
       "    <tr>\n",
       "      <th>13</th>\n",
       "      <td>15.601659</td>\n",
       "      <td>-18.324991</td>\n",
       "      <td>0.011069</td>\n",
       "    </tr>\n",
       "    <tr>\n",
       "      <th>14</th>\n",
       "      <td>13.753618</td>\n",
       "      <td>-21.310568</td>\n",
       "      <td>0.017159</td>\n",
       "    </tr>\n",
       "    <tr>\n",
       "      <th>15</th>\n",
       "      <td>14.504531</td>\n",
       "      <td>-18.809258</td>\n",
       "      <td>0.012081</td>\n",
       "    </tr>\n",
       "    <tr>\n",
       "      <th>16</th>\n",
       "      <td>14.147030</td>\n",
       "      <td>-18.510365</td>\n",
       "      <td>0.006022</td>\n",
       "    </tr>\n",
       "    <tr>\n",
       "      <th>17</th>\n",
       "      <td>16.044847</td>\n",
       "      <td>-20.291012</td>\n",
       "      <td>0.032207</td>\n",
       "    </tr>\n",
       "    <tr>\n",
       "      <th>18</th>\n",
       "      <td>15.192141</td>\n",
       "      <td>-16.313009</td>\n",
       "      <td>0.004011</td>\n",
       "    </tr>\n",
       "  </tbody>\n",
       "</table>\n",
       "</div>"
      ],
      "text/plain": [
       "            m          M         z\n",
       "0   14.541391 -16.339065  0.003676\n",
       "1   16.756129 -18.177730  0.022604\n",
       "2   15.829605 -16.696145  0.008038\n",
       "3   16.294575 -19.512265  0.036352\n",
       "4   13.829094 -19.665756  0.010395\n",
       "5   14.182569 -21.249230  0.033587\n",
       "6   16.039077 -17.778063  0.014448\n",
       "7   17.138868 -17.656339  0.017838\n",
       "8   15.998251 -19.397655  0.030485\n",
       "9   17.910487 -16.931928  0.025338\n",
       "10  15.074670 -20.918616  0.030141\n",
       "11  15.164040 -18.866860  0.017838\n",
       "12  12.484639 -23.322201  0.032552\n",
       "13  15.601659 -18.324991  0.011069\n",
       "14  13.753618 -21.310568  0.017159\n",
       "15  14.504531 -18.809258  0.012081\n",
       "16  14.147030 -18.510365  0.006022\n",
       "17  16.044847 -20.291012  0.032207\n",
       "18  15.192141 -16.313009  0.004011"
      ]
     },
     "execution_count": 4,
     "metadata": {},
     "output_type": "execute_result"
    }
   ],
   "source": [
    "df.rename(columns = {'Apparent Magitude (m)':'m', 'Absolute Magnitude (M)':'M', 'Redshift (z)':'z'}, inplace = True)\n",
    "df"
   ]
  },
  {
   "cell_type": "markdown",
   "id": "705e2b23-07f1-4a3a-9f9d-5dac5c5702be",
   "metadata": {},
   "source": [
    "### Raw data to numpy array"
   ]
  },
  {
   "cell_type": "code",
   "execution_count": 5,
   "id": "2d76c059-7bf0-460b-a183-9352d9ab825a",
   "metadata": {},
   "outputs": [
    {
     "data": {
      "text/plain": [
       "(array([14.54139124, 16.75612879, 15.82960489, 16.29457481, 13.82909389,\n",
       "        14.18256872, 16.03907735, 17.13886801, 15.9982508 , 17.91048687,\n",
       "        15.07466972, 15.16403959, 12.48463919, 15.6016586 , 13.75361766,\n",
       "        14.50453086, 14.14702991, 16.04484713, 15.19214105]),\n",
       " array([-16.33906506, -18.17772989, -16.696145  , -19.5122652 ,\n",
       "        -19.66575613, -21.24923043, -17.77806262, -17.65633895,\n",
       "        -19.39765543, -16.93192787, -20.91861571, -18.86686028,\n",
       "        -23.32220082, -18.32499057, -21.31056846, -18.8092583 ,\n",
       "        -18.51036467, -20.29101151, -16.31300893]),\n",
       " array([0.00367597, 0.02260424, 0.00803785, 0.03635172, 0.01039452,\n",
       "        0.03358662, 0.01444763, 0.017838  , 0.03048528, 0.02533826,\n",
       "        0.0301413 , 0.017838  , 0.03255174, 0.01106889, 0.01715899,\n",
       "        0.0120813 , 0.0060223 , 0.03220702, 0.00401082]))"
      ]
     },
     "execution_count": 5,
     "metadata": {},
     "output_type": "execute_result"
    }
   ],
   "source": [
    "m = df['m'].to_numpy()\n",
    "M = df['M'].to_numpy()\n",
    "z = df['z'].to_numpy()\n",
    "m, M, z"
   ]
  },
  {
   "cell_type": "markdown",
   "id": "2ad5f17f-151c-4523-a007-88b7444f4d5e",
   "metadata": {},
   "source": [
    "### Distance modulus "
   ]
  },
  {
   "cell_type": "code",
   "execution_count": 6,
   "id": "0ce74112-0d47-4da4-89c1-a3a1b300f7cd",
   "metadata": {},
   "outputs": [
    {
     "data": {
      "text/plain": [
       "array([ 15.,  97.,  32., 145.,  50., 122.,  58.,  91., 120.,  93., 158.,\n",
       "        64., 145.,  61., 103.,  46.,  34., 185.,  20.])"
      ]
     },
     "execution_count": 6,
     "metadata": {},
     "output_type": "execute_result"
    }
   ],
   "source": [
    "d = (np.power(10, ((m-M+5)/5))) / 1e6 # pc -> Mpc\n",
    "d"
   ]
  },
  {
   "cell_type": "markdown",
   "id": "3215109e-6258-4c4e-8e78-c28dc2a05783",
   "metadata": {},
   "source": [
    "### Recession velocity"
   ]
  },
  {
   "cell_type": "code",
   "execution_count": 7,
   "id": "d1c3add0-eeb3-4066-ab8b-72daa9db41f5",
   "metadata": {},
   "outputs": [
    {
     "data": {
      "text/plain": [
       "299792.458"
      ]
     },
     "execution_count": 7,
     "metadata": {},
     "output_type": "execute_result"
    }
   ],
   "source": [
    "c = sp.constants.c / 1e3 # m/s -> km/s\n",
    "c"
   ]
  },
  {
   "cell_type": "code",
   "execution_count": 8,
   "id": "7004bbbb-c7cf-4f73-b2e4-1009c7810b86",
   "metadata": {},
   "outputs": [
    {
     "data": {
      "text/plain": [
       "array([ 1102.02717461,  6776.58083794,  2409.68771404, 10897.97009507,\n",
       "        3116.19957399, 10069.01498452,  4331.29181072,  5347.69673997,\n",
       "        9139.25737589,  7596.21881549,  9036.13397941,  5347.69673997,\n",
       "        9758.76560163,  3318.3692583 ,  5144.13548681,  3621.88244544,\n",
       "        1805.43909677,  9655.42263673,  1202.41314441])"
      ]
     },
     "execution_count": 8,
     "metadata": {},
     "output_type": "execute_result"
    }
   ],
   "source": [
    "v = c*z\n",
    "v"
   ]
  },
  {
   "cell_type": "markdown",
   "id": "17cae768-baae-4b1c-a005-ae588a434d58",
   "metadata": {},
   "source": [
    "### Plot data"
   ]
  },
  {
   "cell_type": "code",
   "execution_count": 9,
   "id": "9efca8a4-2c5d-4113-9c65-c54266f11e5e",
   "metadata": {},
   "outputs": [
    {
     "data": {
      "text/plain": [
       "<matplotlib.collections.PathCollection at 0x2277ff16de0>"
      ]
     },
     "execution_count": 9,
     "metadata": {},
     "output_type": "execute_result"
    },
    {
     "data": {
      "image/png": "[encoded data removed]",
      "text/plain": [
       "<Figure size 640x480 with 1 Axes>"
      ]
     },
     "metadata": {},
     "output_type": "display_data"
    }
   ],
   "source": [
    "plt.xlabel('Distance (Mpc)')\n",
    "plt.ylabel('Velocity (km/s)')\n",
    "plt.scatter(d, v, color='black')"
   ]
  },
  {
   "cell_type": "markdown",
   "id": "ddb20e54-de0d-4ee7-9a59-73f3727051bd",
   "metadata": {},
   "source": [
    "### Linear regression"
   ]
  },
  {
   "cell_type": "markdown",
   "id": "0c54ef1c-b94d-4806-8b56-433ddb999fa6",
   "metadata": {},
   "source": [
    "##### Mean squared error"
   ]
  },
  {
   "cell_type": "code",
   "execution_count": 10,
   "id": "b67a5a57-771c-425f-b8f7-307ed4dbfc90",
   "metadata": {},
   "outputs": [],
   "source": [
    "def mse(x, y, w, b):\n",
    "    error = 0\n",
    "    n = len(x)\n",
    "    for i in range(n):\n",
    "        pred = (w*x[i]) + b\n",
    "        error += np.power((y[i]-pred), 2)\n",
    "    mse = error/n\n",
    "    return mse"
   ]
  },
  {
   "cell_type": "markdown",
   "id": "3462772c-7696-4c77-928e-b8323f238381",
   "metadata": {},
   "source": [
    "##### Gradient descent"
   ]
  },
  {
   "cell_type": "code",
   "execution_count": 11,
   "id": "a9a9fa7d-ec6e-4655-aea3-56c2b449ed2c",
   "metadata": {},
   "outputs": [],
   "source": [
    "def gradient_descent(x, y, w, b, alpha):\n",
    "    dw = 0\n",
    "    db = 0\n",
    "    n = len(x)\n",
    "    for i in range(n):\n",
    "        pred = (w*x[i]) + b\n",
    "        dw += (-2/n) * (y[i]-pred) * x[i] # Derivative of mean squared error (w)\n",
    "        db += (-2/n) * (y[i]-pred) # Derivative of mean squared error (b)\n",
    "    w = w - alpha*dw\n",
    "    b = b - alpha*db\n",
    "\n",
    "    return w, b"
   ]
  },
  {
   "cell_type": "code",
   "execution_count": 12,
   "id": "d34b1670-7a49-4bc1-a322-4af8d7dfadb5",
   "metadata": {},
   "outputs": [],
   "source": [
    "w = 0\n",
    "b = 0\n",
    "epochs = 100\n",
    "alpha = 1e-5"
   ]
  },
  {
   "cell_type": "code",
   "execution_count": 13,
   "id": "939d8f60-0b0c-4289-bbff-0c4175bc68e3",
   "metadata": {},
   "outputs": [
    {
     "name": "stdout",
     "output_type": "stream",
     "text": [
      "1 12.854695804584734 0.11544863527550715 28534910.66541451\n",
      "2 23.19139052205398 0.2087172285007147 18895870.269289225\n",
      "3 31.503314014904326 0.2841504377836029 12663203.523982506\n",
      "4 38.18708153394924 0.34524188302885095 8633120.26328586\n",
      "5 43.561618734625725 0.3948008485886524 6027241.891419662\n",
      "6 47.88337963247481 0.4350863319460808 4342263.716772968\n",
      "7 51.358583642478955 0.467914834739553 3252745.6335013225\n",
      "8 54.153055608620384 0.49474703951834104 2548255.940376069\n",
      "9 56.40013835356237 0.5167575081240801 2092728.122893467\n",
      "10 58.2070553061279 0.5348907274478576 1798180.6827284053\n",
      "11 59.66002680768164 0.5499061768596119 1607724.207553673\n",
      "12 60.82838422867728 0.5624145677612763 1484573.631229828\n",
      "13 61.767878205831224 0.572906984481426 1404943.4893702846\n",
      "14 62.52333885679362 0.5817783170073936 1353453.945115675\n",
      "15 63.13081490794493 0.589346103678366 1320160.2953491597\n",
      "16 63.619293806603366 0.5958656829432504 1298632.2299844623\n",
      "17 64.01208489505076 0.6015423771692849 1284711.8684574417\n",
      "18 64.32793164633762 0.6065412898677873 1275710.6979975288\n",
      "19 64.58190603365594 0.6109951838244998 1269890.3086610038\n",
      "20 64.78612770928618 0.615010816049844 1266126.6332068574\n",
      "21 64.95034230968403 0.6186740318295353 1263692.8424042335\n",
      "22 65.08238648129189 0.6220538609448562 1262118.9637180795\n",
      "23 65.1885618163908 0.6252058115191049 1261101.1098330128\n",
      "24 65.27393554183197 0.628174518660419 1260442.7852231031\n",
      "25 65.3425823084047 0.6309958742844343 1260016.9345959544\n",
      "26 65.39777861813705 0.6336987397440605 1259741.4031683991\n",
      "27 65.44215916688276 0.6363063229867447 1259563.069120247\n",
      "28 65.47784256228563 0.6388372859520859 1259447.5835350782\n",
      "29 65.50653241591893 0.6413066350507306 1259372.7361788508\n",
      "30 65.5295986333435 0.6437264372149144 1259324.1657689493\n",
      "31 65.54814278094639 0.6461063956879404 1259292.5862060965\n",
      "32 65.56305064862418 0.648454313027143 1259271.993037752\n",
      "33 65.57503451640837 0.6507764634131316 1259258.5037456304\n",
      "34 65.58466714184024 0.6530778920305352 1259249.6078680109\n",
      "35 65.5924090898474 0.6553626558055952 1259243.6821239225\n",
      "36 65.5986307092026 0.6576340169877125 1259239.6768892712\n",
      "37 65.60362980420068 0.6598945988119502 1259236.9134702526\n",
      "38 65.60764584478066 0.6621465106701285 1259234.9530190125\n",
      "39 65.61087139314762 0.6643914487632164 1259233.5117736578\n",
      "40 65.61346129213057 0.666630777037781 1259232.4062518922\n",
      "41 65.61554005371089 0.668865592268482 1259231.5178128646\n",
      "42 65.61720780027468 0.6710967763921099 1259230.769742621\n",
      "43 65.61854504208358 0.673325038590352 1259230.1124374196\n",
      "44 65.61961651892737 0.6755509491293241 1259229.513823156\n",
      "45 65.62047428926788 0.6777749665705624 1259228.953160504\n",
      "46 65.62116021427664 0.6799974596518853 1259228.41703928\n",
      "47 65.6217079552956 0.6822187248821999 1259227.8967883717\n",
      "48 65.6221445800321 0.6844390006898099 1259227.3868009797\n",
      "49 65.62249185413003 0.686658478799332 1259226.8834517119\n",
      "50 65.62276727974601 0.688877313380085 1259226.3843963675\n",
      "51 65.62298493068776 0.6910956284024784 1259225.8881191679\n",
      "52 65.62315612396425 0.6933135235534204 1259225.3936400043\n",
      "53 65.62328995979159 0.6955310789930065 1259224.9003251276\n",
      "54 65.62339375582181 0.6977483591794617 1259224.4077647561\n",
      "55 65.62347339631418 0.6999654159448462 1259223.9156939178\n",
      "56 65.62353361291036 0.7021822909682881 1259223.4239412837\n",
      "57 65.6235782104109 0.7043990177647547 1259222.9323960687\n",
      "58 65.62361024832623 0.7066156232842606 1259222.440986641\n",
      "59 65.6236321868653 0.7088321291978212 1259221.94966668\n",
      "60 65.62364600432754 0.7110485529315105 1259221.4584062377\n",
      "61 65.62365329150015 0.7132649084979664 1259220.9671859462\n",
      "62 65.6236553275645 0.7154812071650206 1259220.475993285\n",
      "63 65.623653141134 0.7176974579933546 1259219.9848201554\n",
      "64 65.62364755933568 0.7199136682688401 1259219.493661324\n",
      "65 65.6236392472777 0.7221298438501911 1259219.0025134045\n",
      "66 65.6236287397858 0.7243459894485178 1259218.511374207\n",
      "67 65.62361646692328 0.7265621088521212 1259218.0202423176\n",
      "68 65.62360277451197 0.7287782051072541 1259217.52911682\n",
      "69 65.62358794063358 0.7309942806634747 1259217.0379971236\n",
      "70 65.6235721888988 0.733210337490528 1259216.546882844\n",
      "71 65.62355569911708 0.7354263771723325 1259216.0557737343\n",
      "72 65.62353861587653 0.7376424009825562 1259215.5646696351\n",
      "73 65.62352105544313 0.7398584099453892 1259215.0735704429\n",
      "74 65.62350311130851 0.7420744048844118 1259214.582476091\n",
      "75 65.623484858651 0.7442903864618899 1259214.0913865347\n",
      "76 65.6234663579229 0.7465063552103741 1259213.6003017472\n",
      "77 65.623447657735 0.7487223115581079 1259213.1092217101\n",
      "78 65.62342879717616 0.75093825584946 1259212.618146411\n",
      "79 65.62340980767846 0.7531541883613535 1259212.127075843\n",
      "80 65.62339071451697 0.7553701093164775 1259211.6360100014\n",
      "81 65.6233715380159 0.7575860188939105 1259211.1449488825\n",
      "82 65.6233522945183 0.7598019172376628 1259210.6538924847\n",
      "83 65.6233329971659 0.7620178044635456 1259210.1628408052\n",
      "84 65.62331365652622 0.7642336806646951 1259209.6717938446\n",
      "85 65.62329428109682 0.7664495459160137 1259209.180751603\n",
      "86 65.6232748777107 0.7686654002777417 1259208.6897140772\n",
      "87 65.62325545186245 0.7708812437983297 1259208.198681269\n",
      "88 65.62323600797033 0.7730970765167475 1259207.7076531788\n",
      "89 65.62321654958717 0.7753128984643417 1259207.216629805\n",
      "90 65.62319707956986 0.7775287096663286 1259206.725611148\n",
      "91 65.62317760021568 0.779744510142995 1259206.2345972066\n",
      "92 65.62315811337191 0.7819602999106638 1259205.7435879828\n",
      "93 65.62313862052399 0.784176078982471 1259205.252583475\n",
      "94 65.62311912286637 0.7863918473689891 1259204.7615836845\n",
      "95 65.62309962135956 0.78860760507873 1259204.2705886096\n",
      "96 65.6230801167759 0.7908233521185477 1259203.7795982517\n",
      "97 65.62306060973643 0.7930390884939643 1259203.2886126097\n",
      "98 65.62304110074058 0.7952548142094299 1259202.7976316842\n",
      "99 65.62302159018994 0.797470529268533 1259202.3066554747\n",
      "100 65.6230020784074 0.7996862336741691 1259201.8156839814\n"
     ]
    }
   ],
   "source": [
    "for i in range(epochs):\n",
    "    w, b = gradient_descent(d, v, w, b, alpha)\n",
    "    loss = mse(d, v, w, b)\n",
    "    if i%1 == 0:\n",
    "        print(i+1, w, b, loss)"
   ]
  },
  {
   "cell_type": "code",
   "execution_count": 14,
   "id": "945d9251-466c-45ba-bfaf-3e6cd5c62319",
   "metadata": {},
   "outputs": [
    {
     "data": {
      "text/plain": [
       "(65.6230020784074, 0.7996862336741691)"
      ]
     },
     "execution_count": 14,
     "metadata": {},
     "output_type": "execute_result"
    }
   ],
   "source": [
    "w, b"
   ]
  },
  {
   "cell_type": "markdown",
   "id": "3c0650d0-c606-4ae0-9fbd-e9c22ae6ad1c",
   "metadata": {},
   "source": [
    "##### Plot data + fit line"
   ]
  },
  {
   "cell_type": "code",
   "execution_count": 15,
   "id": "f33954e7-ee0a-4fb6-9420-b1d95015f8b5",
   "metadata": {},
   "outputs": [
    {
     "data": {
      "text/plain": [
       "[<matplotlib.lines.Line2D at 0x2270006fec0>]"
      ]
     },
     "execution_count": 15,
     "metadata": {},
     "output_type": "execute_result"
    },
    {
     "data": {
      "image/png": "[encoded data removed]",
      "text/plain": [
       "<Figure size 640x480 with 1 Axes>"
      ]
     },
     "metadata": {},
     "output_type": "display_data"
    }
   ],
   "source": [
    "plt.xlabel('Distance (Mpc)')\n",
    "plt.ylabel('Velocity (km/s)')\n",
    "plt.scatter(d, v, color='black')\n",
    "plt.plot(list(range(0, 200)), [(w*x) + b for x in range(0, 200)], color=\"red\") # Trendline"
   ]
  },
  {
   "cell_type": "code",
   "execution_count": 16,
   "id": "7c3d2331-9944-4a3f-bb97-3bb0c42f7d3e",
   "metadata": {},
   "outputs": [
    {
     "data": {
      "text/plain": [
       "65.6230020784074"
      ]
     },
     "execution_count": 16,
     "metadata": {},
     "output_type": "execute_result"
    }
   ],
   "source": [
    "h = w\n",
    "h"
   ]
  },
  {
   "cell_type": "code",
   "execution_count": 17,
   "id": "6061213e-0322-4a5b-a94b-fa8f58364e51",
   "metadata": {},
   "outputs": [
    {
     "name": "stdout",
     "output_type": "stream",
     "text": [
      "Hubble constant:  65.6230020784074 km/s/Mpc\n",
      "Age of the universe:  14.910016992590394 billion years\n"
     ]
    }
   ],
   "source": [
    "age_u = ((3.086*1e19/h) / (3.154*1e7)) / 1e9\n",
    "print('Hubble constant: ', h, 'km/s/Mpc')\n",
    "print('Age of the universe: ', age_u, 'billion years')"
   ]
  }
 ],
 "metadata": {
  "kernelspec": {
   "display_name": "Python 3 (ipykernel)",
   "language": "python",
   "name": "python3"
  },
  "language_info": {
   "codemirror_mode": {
    "name": "ipython",
    "version": 3
   },
   "file_extension": ".py",
   "mimetype": "text/x-python",
   "name": "python",
   "nbconvert_exporter": "python",
   "pygments_lexer": "ipython3",
   "version": "3.12.4"
  }
 },
 "nbformat": 4,
 "nbformat_minor": 5
}
